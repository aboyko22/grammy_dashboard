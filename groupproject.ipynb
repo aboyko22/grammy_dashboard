{
 "cells": [
  {
   "cell_type": "code",
   "execution_count": 33,
   "id": "f5ae52b9",
   "metadata": {},
   "outputs": [
    {
     "name": "stdout",
     "output_type": "stream",
     "text": [
      "0000\n",
      "0000\n",
      "0000\n",
      "0000\n",
      "0000\n",
      "0000\n",
      "0000\n",
      "0000\n",
      "0000\n",
      "0000\n"
     ]
    }
   ],
   "source": [
    "from datetime import datetime\n",
    "from dateutil import parser\n",
    "\n",
    "import pandas as pd\n",
    "spotify_1mil = pd.read_csv('tracks_features.csv')\n",
    "\n",
    "def parse_datetime(date_string):\n",
    "    formats = [\"%Y-%m-%d\", \"%Y\", \"%m/%d/%Y\", \"%m-%d-%Y\", \"%Y-%m-%d\", \"%Y/%m/%d\", \"%m/%d/%Y\", \"%m-%d-%Y\"]\n",
    "    for fmt in formats:\n",
    "        try:\n",
    "            return datetime.strptime(date_string, fmt)\n",
    "        except ValueError:\n",
    "            print(date_string)\n",
    "\n",
    "def parse_datetime2(date_string):\n",
    "    try:\n",
    "        return pd.to_datetime(date_string)\n",
    "    except ValueError:\n",
    "        print(date_string)\n",
    "\n",
    "spotify_1mil.release_date = spotify_1mil.release_date.apply(lambda x: parse_datetime2(x))"
   ]
  },
  {
   "cell_type": "code",
   "execution_count": 36,
   "id": "5c85da26",
   "metadata": {},
   "outputs": [
    {
     "name": "stdout",
     "output_type": "stream",
     "text": [
      "2020-12-18 00:00:00\n",
      "1900-01-01 00:00:00\n"
     ]
    }
   ],
   "source": [
    "print(spotify_1mil.release_date.max())\n",
    "print(spotify_1mil.release_date.min())"
   ]
  },
  {
   "cell_type": "markdown",
   "id": "dba48be1",
   "metadata": {},
   "source": [
    "## TRAINING MODEL"
   ]
  },
  {
   "cell_type": "code",
   "execution_count": 74,
   "id": "b66ba651",
   "metadata": {},
   "outputs": [],
   "source": [
    "modeling_data = pd.read_csv('./grammy_dashboard-main/data/modeling_data.csv')\n",
    "\n",
    "for col in ['charted_q1', 'charted_q2', 'charted_q3', 'charted_q4', 'explicit']:\n",
    "    modeling_data[col] = modeling_data[col].map({True: 1, False: 0})"
   ]
  },
  {
   "cell_type": "code",
   "execution_count": 80,
   "id": "3b763afb",
   "metadata": {},
   "outputs": [
    {
     "data": {
      "text/plain": [
       "won_grammy\n",
       "0    5149\n",
       "1      61\n",
       "Name: count, dtype: int64"
      ]
     },
     "execution_count": 80,
     "metadata": {},
     "output_type": "execute_result"
    }
   ],
   "source": [
    "X = modeling_data.drop(columns = ['Unnamed: 0', 'won_grammy', 'tolower(artist)', 'tolower(song)', 'artist', 'song', 'started_charting'])\n",
    "y = modeling_data.won_grammy.map({'Yes': 1, 'No': 0})\n",
    "\n",
    "categorical_cols = X.select_dtypes(include=['object']).columns.tolist()\n",
    "\n",
    "for col in categorical_cols:\n",
    "    X[col] = X[col].astype('category')\n",
    "\n",
    "y.value_counts()\n",
    "\n",
    "#categorical_cols_test = test_X.select_dtypes(include=['object']).columns.tolist()\n",
    "\n",
    "#for col in categorical_cols_test:\n",
    "    #test_X[col] = test_X[col].astype('category')"
   ]
  },
  {
   "cell_type": "code",
   "execution_count": 82,
   "id": "beb8331e",
   "metadata": {},
   "outputs": [
    {
     "name": "stderr",
     "output_type": "stream",
     "text": [
      "[I 2025-06-01 22:47:45,394] A new study created in memory with name: no-name-73db5a04-c4b0-44e2-8a62-97b2833ce420\n",
      "[I 2025-06-01 22:47:48,803] Trial 0 finished with value: 0.14754689754689754 and parameters: {'n_estimators': 463, 'learning_rate': 0.07889043775950387, 'max_depth': 11, 'min_child_weight': 4, 'gamma': 0.15401595790485703, 'subsample': 0.9150081766932656, 'colsample_bytree': 0.9577999140932489, 'reg_alpha': 0.8190864705321865, 'reg_lambda': 1.2135064597112832}. Best is trial 0 with value: 0.14754689754689754.\n",
      "[I 2025-06-01 22:47:50,901] Trial 1 finished with value: 0.17959276018099546 and parameters: {'n_estimators': 497, 'learning_rate': 0.3157392136953174, 'max_depth': 11, 'min_child_weight': 4, 'gamma': 0.03780059109059857, 'subsample': 0.8760383753529126, 'colsample_bytree': 0.7290222062326803, 'reg_alpha': 8.55049186263745, 'reg_lambda': 8.983596959612921}. Best is trial 1 with value: 0.17959276018099546.\n",
      "[I 2025-06-01 22:47:53,496] Trial 2 finished with value: 0.1482051282051282 and parameters: {'n_estimators': 362, 'learning_rate': 0.1602035721311417, 'max_depth': 5, 'min_child_weight': 7, 'gamma': 0.03712747327658568, 'subsample': 0.7741727925602926, 'colsample_bytree': 0.5838420546258118, 'reg_alpha': 3.094117388481221, 'reg_lambda': 7.545871932071754}. Best is trial 1 with value: 0.17959276018099546.\n",
      "[I 2025-06-01 22:47:55,425] Trial 3 finished with value: 0.08205128205128205 and parameters: {'n_estimators': 228, 'learning_rate': 0.230392505305044, 'max_depth': 8, 'min_child_weight': 2, 'gamma': 0.0125199829097832, 'subsample': 0.6163076290327988, 'colsample_bytree': 0.5959340423748827, 'reg_alpha': 6.6072136456755945, 'reg_lambda': 3.616688174663217}. Best is trial 1 with value: 0.17959276018099546.\n",
      "[I 2025-06-01 22:47:57,584] Trial 4 finished with value: 0.1301098901098901 and parameters: {'n_estimators': 377, 'learning_rate': 0.4022990498547969, 'max_depth': 11, 'min_child_weight': 7, 'gamma': 0.08186669724746456, 'subsample': 0.5213590324827337, 'colsample_bytree': 0.5546691710658604, 'reg_alpha': 2.2851569857248966, 'reg_lambda': 8.514429749273765}. Best is trial 1 with value: 0.17959276018099546.\n",
      "[I 2025-06-01 22:47:59,819] Trial 5 finished with value: 0.11783494217803377 and parameters: {'n_estimators': 304, 'learning_rate': 0.028894652710122457, 'max_depth': 4, 'min_child_weight': 7, 'gamma': 0.019870753196812155, 'subsample': 0.8294985835011688, 'colsample_bytree': 0.5832303789209776, 'reg_alpha': 5.333430104071058, 'reg_lambda': 4.742948276034555}. Best is trial 1 with value: 0.17959276018099546.\n",
      "[I 2025-06-01 22:48:01,798] Trial 6 finished with value: 0.1588888888888889 and parameters: {'n_estimators': 380, 'learning_rate': 0.33486816229576394, 'max_depth': 8, 'min_child_weight': 3, 'gamma': 0.062098245445872925, 'subsample': 0.8852525209494937, 'colsample_bytree': 0.590375194285615, 'reg_alpha': 0.4784581378776309, 'reg_lambda': 6.313347338212642}. Best is trial 1 with value: 0.17959276018099546.\n",
      "[I 2025-06-01 22:48:03,529] Trial 7 finished with value: 0.15357142857142855 and parameters: {'n_estimators': 219, 'learning_rate': 0.21104772623724058, 'max_depth': 5, 'min_child_weight': 3, 'gamma': 0.020297442900556264, 'subsample': 0.7747511243537152, 'colsample_bytree': 0.7223465128964099, 'reg_alpha': 1.9016794051758357, 'reg_lambda': 5.24107369218653}. Best is trial 1 with value: 0.17959276018099546.\n",
      "[I 2025-06-01 22:48:06,145] Trial 8 finished with value: 0.13523809523809524 and parameters: {'n_estimators': 270, 'learning_rate': 0.08608123655977491, 'max_depth': 8, 'min_child_weight': 6, 'gamma': 0.06284145066840506, 'subsample': 0.7054114734699226, 'colsample_bytree': 0.7471074277938372, 'reg_alpha': 7.263391527673971, 'reg_lambda': 7.3123208276922345}. Best is trial 1 with value: 0.17959276018099546.\n",
      "[I 2025-06-01 22:48:07,596] Trial 9 finished with value: 0.13350649350649352 and parameters: {'n_estimators': 247, 'learning_rate': 0.2357621537279403, 'max_depth': 7, 'min_child_weight': 7, 'gamma': 0.16414148940025705, 'subsample': 0.8187429020739507, 'colsample_bytree': 0.5629443826094336, 'reg_alpha': 8.574882496577418, 'reg_lambda': 7.652743993443366}. Best is trial 1 with value: 0.17959276018099546.\n",
      "[I 2025-06-01 22:48:09,028] Trial 10 finished with value: 0.12371635610766045 and parameters: {'n_estimators': 487, 'learning_rate': 0.4891592121408123, 'max_depth': 12, 'min_child_weight': 1, 'gamma': 0.1189682943467065, 'subsample': 0.9801848714367749, 'colsample_bytree': 0.8802633580022954, 'reg_alpha': 9.921467960491167, 'reg_lambda': 9.86754075513636}. Best is trial 1 with value: 0.17959276018099546.\n",
      "[I 2025-06-01 22:48:10,741] Trial 11 finished with value: 0.12666666666666665 and parameters: {'n_estimators': 420, 'learning_rate': 0.3491793811647742, 'max_depth': 10, 'min_child_weight': 5, 'gamma': 0.11002136624174147, 'subsample': 0.9086956143557181, 'colsample_bytree': 0.6829397989685007, 'reg_alpha': 4.071431042862171, 'reg_lambda': 9.96423600400007}. Best is trial 1 with value: 0.17959276018099546.\n",
      "[I 2025-06-01 22:48:13,054] Trial 12 finished with value: 0.175 and parameters: {'n_estimators': 417, 'learning_rate': 0.3352429954941908, 'max_depth': 9, 'min_child_weight': 4, 'gamma': 0.05896963395484905, 'subsample': 0.8851069807451141, 'colsample_bytree': 0.8357677688003434, 'reg_alpha': 0.1958821688149377, 'reg_lambda': 6.037984147499237}. Best is trial 1 with value: 0.17959276018099546.\n",
      "[I 2025-06-01 22:48:14,442] Trial 13 finished with value: 0.11401002506265664 and parameters: {'n_estimators': 435, 'learning_rate': 0.30972122583470235, 'max_depth': 10, 'min_child_weight': 4, 'gamma': 0.045727758993013144, 'subsample': 0.9982324579583539, 'colsample_bytree': 0.8495187125466518, 'reg_alpha': 5.391119615183674, 'reg_lambda': 2.5437788835833954}. Best is trial 1 with value: 0.17959276018099546.\n",
      "[I 2025-06-01 22:48:16,421] Trial 14 finished with value: 0.15666666666666665 and parameters: {'n_estimators': 493, 'learning_rate': 0.4284205737674074, 'max_depth': 10, 'min_child_weight': 5, 'gamma': 0.09083140654097593, 'subsample': 0.6926293077949062, 'colsample_bytree': 0.8225554760394327, 'reg_alpha': 7.8752396192010705, 'reg_lambda': 5.766542895582619}. Best is trial 1 with value: 0.17959276018099546.\n",
      "[I 2025-06-01 22:48:18,228] Trial 15 finished with value: 0.2098793363499246 and parameters: {'n_estimators': 424, 'learning_rate': 0.3023589528144862, 'max_depth': 12, 'min_child_weight': 3, 'gamma': 0.133956817908338, 'subsample': 0.8563097503046537, 'colsample_bytree': 0.6777044617487291, 'reg_alpha': 9.91375535878554, 'reg_lambda': 8.796262860375588}. Best is trial 15 with value: 0.2098793363499246.\n",
      "[I 2025-06-01 22:48:20,146] Trial 16 finished with value: 0.13616814472077626 and parameters: {'n_estimators': 452, 'learning_rate': 0.2774945492988379, 'max_depth': 12, 'min_child_weight': 2, 'gamma': 0.19818094725213026, 'subsample': 0.8321365811165816, 'colsample_bytree': 0.6669458061586426, 'reg_alpha': 9.931683998159764, 'reg_lambda': 8.845030553238718}. Best is trial 15 with value: 0.2098793363499246.\n",
      "[I 2025-06-01 22:48:21,846] Trial 17 finished with value: 0.13567669172932328 and parameters: {'n_estimators': 330, 'learning_rate': 0.16522118516693815, 'max_depth': 12, 'min_child_weight': 3, 'gamma': 0.1341969191378029, 'subsample': 0.9429156917869386, 'colsample_bytree': 0.6635544522865575, 'reg_alpha': 8.761994187422856, 'reg_lambda': 8.751676035241102}. Best is trial 15 with value: 0.2098793363499246.\n",
      "[I 2025-06-01 22:48:23,597] Trial 18 finished with value: 0.16063492063492063 and parameters: {'n_estimators': 410, 'learning_rate': 0.3988856513948221, 'max_depth': 6, 'min_child_weight': 5, 'gamma': 0.17830933398980986, 'subsample': 0.691849112143367, 'colsample_bytree': 0.7884936700488853, 'reg_alpha': 6.4558945995977135, 'reg_lambda': 6.7273685581647875}. Best is trial 15 with value: 0.2098793363499246.\n",
      "[I 2025-06-01 22:48:25,540] Trial 19 finished with value: 0.11437229437229438 and parameters: {'n_estimators': 466, 'learning_rate': 0.2817531398368609, 'max_depth': 11, 'min_child_weight': 2, 'gamma': 0.13667852388079144, 'subsample': 0.8433058143836302, 'colsample_bytree': 0.9075449153110252, 'reg_alpha': 8.85420021895048, 'reg_lambda': 4.09684655181966}. Best is trial 15 with value: 0.2098793363499246.\n",
      "[I 2025-06-01 22:48:27,565] Trial 20 finished with value: 0.16964285714285715 and parameters: {'n_estimators': 397, 'learning_rate': 0.17988264958342404, 'max_depth': 3, 'min_child_weight': 1, 'gamma': 0.08991781262125491, 'subsample': 0.6221242373896207, 'colsample_bytree': 0.5018627993099236, 'reg_alpha': 7.671205897907745, 'reg_lambda': 0.2513669215544816}. Best is trial 15 with value: 0.2098793363499246.\n",
      "[I 2025-06-01 22:48:29,829] Trial 21 finished with value: 0.15071428571428572 and parameters: {'n_estimators': 432, 'learning_rate': 0.36055232581456753, 'max_depth': 9, 'min_child_weight': 4, 'gamma': 0.00116252827545274, 'subsample': 0.8729454389879489, 'colsample_bytree': 0.7850524117590543, 'reg_alpha': 3.7018471695744597, 'reg_lambda': 8.232038625724577}. Best is trial 15 with value: 0.2098793363499246.\n",
      "[I 2025-06-01 22:48:31,597] Trial 22 finished with value: 0.1704781561747506 and parameters: {'n_estimators': 483, 'learning_rate': 0.2953178193834503, 'max_depth': 9, 'min_child_weight': 3, 'gamma': 0.06724482787279165, 'subsample': 0.9425270746275596, 'colsample_bytree': 0.7053541411267511, 'reg_alpha': 9.354975421131826, 'reg_lambda': 9.267400435371291}. Best is trial 15 with value: 0.2098793363499246.\n",
      "[I 2025-06-01 22:48:33,173] Trial 23 finished with value: 0.1335667600373483 and parameters: {'n_estimators': 341, 'learning_rate': 0.45744271961320093, 'max_depth': 9, 'min_child_weight': 4, 'gamma': 0.0441007454441315, 'subsample': 0.7818863174796328, 'colsample_bytree': 0.6437754922303348, 'reg_alpha': 6.3685923027395575, 'reg_lambda': 6.5169253155701306}. Best is trial 15 with value: 0.2098793363499246.\n",
      "[I 2025-06-01 22:48:35,021] Trial 24 finished with value: 0.14188034188034188 and parameters: {'n_estimators': 441, 'learning_rate': 0.36593692894169516, 'max_depth': 11, 'min_child_weight': 5, 'gamma': 0.07593297652359708, 'subsample': 0.8736034948318243, 'colsample_bytree': 0.782297989901466, 'reg_alpha': 4.644965410037848, 'reg_lambda': 8.16826671878377}. Best is trial 15 with value: 0.2098793363499246.\n",
      "[I 2025-06-01 22:48:36,940] Trial 25 finished with value: 0.13571428571428573 and parameters: {'n_estimators': 500, 'learning_rate': 0.31488825924418096, 'max_depth': 12, 'min_child_weight': 6, 'gamma': 0.10384874533848168, 'subsample': 0.9348988780305161, 'colsample_bytree': 0.7433851776120347, 'reg_alpha': 1.3462018070237194, 'reg_lambda': 2.884459472523948}. Best is trial 15 with value: 0.2098793363499246.\n",
      "[I 2025-06-01 22:48:38,796] Trial 26 finished with value: 0.1420940170940171 and parameters: {'n_estimators': 401, 'learning_rate': 0.2551077506630249, 'max_depth': 10, 'min_child_weight': 3, 'gamma': 0.034406599987445066, 'subsample': 0.9677500068950126, 'colsample_bytree': 0.9809251895676472, 'reg_alpha': 2.6113198701764655, 'reg_lambda': 9.331991467403672}. Best is trial 15 with value: 0.2098793363499246.\n",
      "[I 2025-06-01 22:48:40,705] Trial 27 finished with value: 0.13675579322638148 and parameters: {'n_estimators': 465, 'learning_rate': 0.3911725199944258, 'max_depth': 11, 'min_child_weight': 4, 'gamma': 0.12598776063469216, 'subsample': 0.7337379690615373, 'colsample_bytree': 0.818481387254588, 'reg_alpha': 8.15995311258857, 'reg_lambda': 6.95018835473655}. Best is trial 15 with value: 0.2098793363499246.\n",
      "[I 2025-06-01 22:48:42,062] Trial 28 finished with value: 0.09895104895104896 and parameters: {'n_estimators': 299, 'learning_rate': 0.43698376891991064, 'max_depth': 7, 'min_child_weight': 2, 'gamma': 0.05372890099384023, 'subsample': 0.8042705995504396, 'colsample_bytree': 0.6318723115982672, 'reg_alpha': 9.361940523698298, 'reg_lambda': 5.578441938072713}. Best is trial 15 with value: 0.2098793363499246.\n",
      "[I 2025-06-01 22:48:45,458] Trial 29 finished with value: 0.1485209235209235 and parameters: {'n_estimators': 468, 'learning_rate': 0.12153149363936824, 'max_depth': 11, 'min_child_weight': 4, 'gamma': 0.160539802610317, 'subsample': 0.8951934249396261, 'colsample_bytree': 0.9287760163077873, 'reg_alpha': 0.0020313126660115033, 'reg_lambda': 7.795575254019358}. Best is trial 15 with value: 0.2098793363499246.\n",
      "[I 2025-06-01 22:48:47,224] Trial 30 finished with value: 0.13746031746031745 and parameters: {'n_estimators': 386, 'learning_rate': 0.2620556404283198, 'max_depth': 9, 'min_child_weight': 6, 'gamma': 0.13852693625409052, 'subsample': 0.8706295291283166, 'colsample_bytree': 0.7025716518291785, 'reg_alpha': 7.135412615296586, 'reg_lambda': 6.136489435515686}. Best is trial 15 with value: 0.2098793363499246.\n",
      "[I 2025-06-01 22:48:49,032] Trial 31 finished with value: 0.17885225885225883 and parameters: {'n_estimators': 483, 'learning_rate': 0.3081155268007001, 'max_depth': 9, 'min_child_weight': 3, 'gamma': 0.07656017735344753, 'subsample': 0.9328845057546175, 'colsample_bytree': 0.7153008483345396, 'reg_alpha': 9.15819807429135, 'reg_lambda': 9.426247833462146}. Best is trial 15 with value: 0.2098793363499246.\n",
      "[I 2025-06-01 22:48:50,903] Trial 32 finished with value: 0.15944444444444444 and parameters: {'n_estimators': 478, 'learning_rate': 0.3200949710445855, 'max_depth': 10, 'min_child_weight': 3, 'gamma': 0.029376507616149336, 'subsample': 0.9227898410238713, 'colsample_bytree': 0.7334935875075278, 'reg_alpha': 9.129767832525726, 'reg_lambda': 9.347331046213595}. Best is trial 15 with value: 0.2098793363499246.\n",
      "[I 2025-06-01 22:48:53,201] Trial 33 finished with value: 0.14357142857142857 and parameters: {'n_estimators': 450, 'learning_rate': 0.1997557356919447, 'max_depth': 9, 'min_child_weight': 4, 'gamma': 0.07448406342459078, 'subsample': 0.8497532584643793, 'colsample_bytree': 0.7654975996365738, 'reg_alpha': 8.287257681417783, 'reg_lambda': 9.998807896080045}. Best is trial 15 with value: 0.2098793363499246.\n",
      "[I 2025-06-01 22:48:54,608] Trial 34 finished with value: 0.12257285049047062 and parameters: {'n_estimators': 417, 'learning_rate': 0.3794012514229593, 'max_depth': 8, 'min_child_weight': 2, 'gamma': 0.09612712071189312, 'subsample': 0.9643312841661612, 'colsample_bytree': 0.6261521208653125, 'reg_alpha': 9.929258081284573, 'reg_lambda': 8.915394721233438}. Best is trial 15 with value: 0.2098793363499246.\n",
      "[I 2025-06-01 22:48:56,181] Trial 35 finished with value: 0.17048128342245988 and parameters: {'n_estimators': 366, 'learning_rate': 0.3322851077508413, 'max_depth': 12, 'min_child_weight': 3, 'gamma': 0.05501496893413435, 'subsample': 0.9181057176957291, 'colsample_bytree': 0.8204485478112366, 'reg_alpha': 5.974204879913822, 'reg_lambda': 8.023606931606743}. Best is trial 15 with value: 0.2098793363499246.\n",
      "[I 2025-06-01 22:48:58,903] Trial 36 finished with value: 0.14714285714285716 and parameters: {'n_estimators': 452, 'learning_rate': 0.2320847418475711, 'max_depth': 11, 'min_child_weight': 5, 'gamma': 0.08168278092906699, 'subsample': 0.5123248943183396, 'colsample_bytree': 0.6918313829408935, 'reg_alpha': 7.346425290272613, 'reg_lambda': 7.140872990267847}. Best is trial 15 with value: 0.2098793363499246.\n",
      "[I 2025-06-01 22:49:00,880] Trial 37 finished with value: 0.14289449112978522 and parameters: {'n_estimators': 474, 'learning_rate': 0.2737980508631579, 'max_depth': 7, 'min_child_weight': 3, 'gamma': 0.11352826146253162, 'subsample': 0.7929153023813634, 'colsample_bytree': 0.8553529636813679, 'reg_alpha': 9.329532479378564, 'reg_lambda': 4.68250748497095}. Best is trial 15 with value: 0.2098793363499246.\n",
      "[I 2025-06-01 22:49:02,302] Trial 38 finished with value: 0.12214285714285715 and parameters: {'n_estimators': 202, 'learning_rate': 0.3471285263962672, 'max_depth': 6, 'min_child_weight': 4, 'gamma': 0.013295986653073976, 'subsample': 0.8567050523852597, 'colsample_bytree': 0.7275469524262764, 'reg_alpha': 3.2466401030791134, 'reg_lambda': 9.35705037949525}. Best is trial 15 with value: 0.2098793363499246.\n",
      "[I 2025-06-01 22:49:07,271] Trial 39 finished with value: 0.11978609625668449 and parameters: {'n_estimators': 356, 'learning_rate': 0.017385243950729823, 'max_depth': 10, 'min_child_weight': 3, 'gamma': 0.1496918309400737, 'subsample': 0.7563606813089522, 'colsample_bytree': 0.609936101148511, 'reg_alpha': 1.4980795045738966, 'reg_lambda': 1.6758261046676926}. Best is trial 15 with value: 0.2098793363499246.\n",
      "[I 2025-06-01 22:49:09,385] Trial 40 finished with value: 0.20924630924630927 and parameters: {'n_estimators': 500, 'learning_rate': 0.2977585696874535, 'max_depth': 8, 'min_child_weight': 2, 'gamma': 0.027935392374605364, 'subsample': 0.8907473058909707, 'colsample_bytree': 0.7641399515505588, 'reg_alpha': 6.99827411979882, 'reg_lambda': 7.516359488467039}. Best is trial 15 with value: 0.2098793363499246.\n",
      "[I 2025-06-01 22:49:11,350] Trial 41 finished with value: 0.15463203463203462 and parameters: {'n_estimators': 498, 'learning_rate': 0.29597403458713206, 'max_depth': 8, 'min_child_weight': 2, 'gamma': 0.032193904003393725, 'subsample': 0.9083103635759318, 'colsample_bytree': 0.802303796365849, 'reg_alpha': 8.541910532446527, 'reg_lambda': 8.511750580605671}. Best is trial 15 with value: 0.2098793363499246.\n",
      "[I 2025-06-01 22:49:13,282] Trial 42 finished with value: 0.17186813186813188 and parameters: {'n_estimators': 487, 'learning_rate': 0.33239002290539443, 'max_depth': 8, 'min_child_weight': 1, 'gamma': 0.024055732652681995, 'subsample': 0.8978422464167181, 'colsample_bytree': 0.7561979658187502, 'reg_alpha': 6.882137993220722, 'reg_lambda': 7.484505826237127}. Best is trial 15 with value: 0.2098793363499246.\n",
      "[I 2025-06-01 22:49:15,379] Trial 43 finished with value: 0.1684688995215311 and parameters: {'n_estimators': 458, 'learning_rate': 0.24594178507455736, 'max_depth': 6, 'min_child_weight': 2, 'gamma': 0.04902178744932342, 'subsample': 0.8138761562242817, 'colsample_bytree': 0.712103197770318, 'reg_alpha': 7.759151135155794, 'reg_lambda': 8.26684609013521}. Best is trial 15 with value: 0.2098793363499246.\n",
      "[I 2025-06-01 22:49:17,291] Trial 44 finished with value: 0.1684688995215311 and parameters: {'n_estimators': 429, 'learning_rate': 0.29770521313070225, 'max_depth': 9, 'min_child_weight': 3, 'gamma': 0.06445442136545483, 'subsample': 0.8868187697838835, 'colsample_bytree': 0.8498924141448034, 'reg_alpha': 5.806140467285925, 'reg_lambda': 7.666132144649648}. Best is trial 15 with value: 0.2098793363499246.\n",
      "[I 2025-06-01 22:49:19,340] Trial 45 finished with value: 0.15489621489621488 and parameters: {'n_estimators': 480, 'learning_rate': 0.21442977783066386, 'max_depth': 8, 'min_child_weight': 2, 'gamma': 0.002533588240314282, 'subsample': 0.955101336823456, 'colsample_bytree': 0.6760716363758975, 'reg_alpha': 9.53669833055038, 'reg_lambda': 9.645116765410355}. Best is trial 15 with value: 0.2098793363499246.\n",
      "[I 2025-06-01 22:49:20,864] Trial 46 finished with value: 0.12345428789364717 and parameters: {'n_estimators': 500, 'learning_rate': 0.36960852035879355, 'max_depth': 7, 'min_child_weight': 4, 'gamma': 0.046639193998901984, 'subsample': 0.9910439275914293, 'colsample_bytree': 0.7649406223690052, 'reg_alpha': 8.466005300530533, 'reg_lambda': 8.63763355432584}. Best is trial 15 with value: 0.2098793363499246.\n",
      "[I 2025-06-01 22:49:23,173] Trial 47 finished with value: 0.17487179487179488 and parameters: {'n_estimators': 440, 'learning_rate': 0.3440417352423062, 'max_depth': 10, 'min_child_weight': 3, 'gamma': 0.039218452810169224, 'subsample': 0.5569589289037982, 'colsample_bytree': 0.8706304879350344, 'reg_alpha': 4.903413925374406, 'reg_lambda': 6.013945113919442}. Best is trial 15 with value: 0.2098793363499246.\n",
      "[I 2025-06-01 22:49:25,023] Trial 48 finished with value: 0.15809745809745807 and parameters: {'n_estimators': 373, 'learning_rate': 0.31953217620761754, 'max_depth': 12, 'min_child_weight': 1, 'gamma': 0.016548345106863368, 'subsample': 0.8311555333376313, 'colsample_bytree': 0.6563834756675149, 'reg_alpha': 8.958779890970765, 'reg_lambda': 5.079837679086523}. Best is trial 15 with value: 0.2098793363499246.\n",
      "[I 2025-06-01 22:49:26,819] Trial 49 finished with value: 0.17290981464356078 and parameters: {'n_estimators': 422, 'learning_rate': 0.2671243270048139, 'max_depth': 5, 'min_child_weight': 4, 'gamma': 0.05914953774390901, 'subsample': 0.860334676816463, 'colsample_bytree': 0.7234226504692302, 'reg_alpha': 9.67783205227223, 'reg_lambda': 9.026388330481929}. Best is trial 15 with value: 0.2098793363499246.\n",
      "[I 2025-06-01 22:49:28,122] Trial 50 finished with value: 0.18067765567765565 and parameters: {'n_estimators': 320, 'learning_rate': 0.42476781594240515, 'max_depth': 9, 'min_child_weight': 3, 'gamma': 0.0720982682304739, 'subsample': 0.9268622110785103, 'colsample_bytree': 0.8973254843001924, 'reg_alpha': 8.000168779013695, 'reg_lambda': 7.280929591948491}. Best is trial 15 with value: 0.2098793363499246.\n",
      "[I 2025-06-01 22:49:29,348] Trial 51 finished with value: 0.14164332399626517 and parameters: {'n_estimators': 308, 'learning_rate': 0.4661897718153798, 'max_depth': 9, 'min_child_weight': 3, 'gamma': 0.08800385853318105, 'subsample': 0.9298856710604713, 'colsample_bytree': 0.909394253248684, 'reg_alpha': 7.995170072461642, 'reg_lambda': 6.88097232496932}. Best is trial 15 with value: 0.2098793363499246.\n",
      "[I 2025-06-01 22:49:30,751] Trial 52 finished with value: 0.1514285714285714 and parameters: {'n_estimators': 315, 'learning_rate': 0.40286775458013785, 'max_depth': 10, 'min_child_weight': 2, 'gamma': 0.07360680801737277, 'subsample': 0.8938013565764165, 'colsample_bytree': 0.9645170513031037, 'reg_alpha': 8.835268928370054, 'reg_lambda': 7.429053246649861}. Best is trial 15 with value: 0.2098793363499246.\n",
      "[I 2025-06-01 22:49:31,998] Trial 53 finished with value: 0.13485380116959061 and parameters: {'n_estimators': 348, 'learning_rate': 0.41391099941794735, 'max_depth': 8, 'min_child_weight': 4, 'gamma': 0.10096982551621954, 'subsample': 0.9749123395300525, 'colsample_bytree': 0.8936386712707532, 'reg_alpha': 7.457676662345374, 'reg_lambda': 6.574297753935122}. Best is trial 15 with value: 0.2098793363499246.\n",
      "[I 2025-06-01 22:49:33,181] Trial 54 finished with value: 0.16523809523809524 and parameters: {'n_estimators': 281, 'learning_rate': 0.49956422302694603, 'max_depth': 9, 'min_child_weight': 3, 'gamma': 0.04069175856217177, 'subsample': 0.9060703683118561, 'colsample_bytree': 0.9319466577617042, 'reg_alpha': 6.682319054100692, 'reg_lambda': 5.510639986664298}. Best is trial 15 with value: 0.2098793363499246.\n",
      "[I 2025-06-01 22:49:34,421] Trial 55 finished with value: 0.14791334396597552 and parameters: {'n_estimators': 255, 'learning_rate': 0.2823923856025593, 'max_depth': 11, 'min_child_weight': 5, 'gamma': 0.06804541543675502, 'subsample': 0.9436297259425717, 'colsample_bytree': 0.8357360453088147, 'reg_alpha': 8.46404447884863, 'reg_lambda': 7.935549040908586}. Best is trial 15 with value: 0.2098793363499246.\n",
      "[I 2025-06-01 22:49:36,095] Trial 56 finished with value: 0.14017316017316017 and parameters: {'n_estimators': 330, 'learning_rate': 0.30659690998970507, 'max_depth': 7, 'min_child_weight': 3, 'gamma': 0.028281081349948806, 'subsample': 0.8807783195311235, 'colsample_bytree': 0.6843467515827742, 'reg_alpha': 7.978910345014824, 'reg_lambda': 8.55335213104994}. Best is trial 15 with value: 0.2098793363499246.\n",
      "[I 2025-06-01 22:49:40,056] Trial 57 finished with value: 0.14747474747474748 and parameters: {'n_estimators': 391, 'learning_rate': 0.05336147664717761, 'max_depth': 12, 'min_child_weight': 4, 'gamma': 0.179211680606281, 'subsample': 0.8422221392248812, 'colsample_bytree': 0.805483134899349, 'reg_alpha': 4.443332020324952, 'reg_lambda': 7.1899070568118475}. Best is trial 15 with value: 0.2098793363499246.\n",
      "[I 2025-06-01 22:49:41,506] Trial 58 finished with value: 0.1601871657754011 and parameters: {'n_estimators': 406, 'learning_rate': 0.3580186263366349, 'max_depth': 8, 'min_child_weight': 2, 'gamma': 0.08085232409965223, 'subsample': 0.9493785585856751, 'colsample_bytree': 0.7419655884907395, 'reg_alpha': 9.133422858564446, 'reg_lambda': 9.634460739136978}. Best is trial 15 with value: 0.2098793363499246.\n",
      "[I 2025-06-01 22:49:43,144] Trial 59 finished with value: 0.162026862026862 and parameters: {'n_estimators': 470, 'learning_rate': 0.383978251970695, 'max_depth': 11, 'min_child_weight': 3, 'gamma': 0.05490392588425194, 'subsample': 0.9280250957590397, 'colsample_bytree': 0.8723937497946828, 'reg_alpha': 7.0730380486705, 'reg_lambda': 6.3221239803730045}. Best is trial 15 with value: 0.2098793363499246.\n",
      "[I 2025-06-01 22:49:45,485] Trial 60 finished with value: 0.16618819776714513 and parameters: {'n_estimators': 485, 'learning_rate': 0.2873320234407696, 'max_depth': 10, 'min_child_weight': 5, 'gamma': 0.06784769988577212, 'subsample': 0.6556596181830894, 'colsample_bytree': 0.5686647102497664, 'reg_alpha': 9.7476626559412, 'reg_lambda': 4.426153832767458}. Best is trial 15 with value: 0.2098793363499246.\n",
      "[I 2025-06-01 22:49:47,891] Trial 61 finished with value: 0.19853479853479855 and parameters: {'n_estimators': 447, 'learning_rate': 0.3346431603659509, 'max_depth': 10, 'min_child_weight': 3, 'gamma': 0.038051388319927985, 'subsample': 0.5450641959278034, 'colsample_bytree': 0.8680206881732757, 'reg_alpha': 5.201992287288286, 'reg_lambda': 6.231498811081002}. Best is trial 15 with value: 0.2098793363499246.\n",
      "[I 2025-06-01 22:49:50,300] Trial 62 finished with value: 0.1556177156177156 and parameters: {'n_estimators': 446, 'learning_rate': 0.3263739680768446, 'max_depth': 9, 'min_child_weight': 4, 'gamma': 0.037549970697956146, 'subsample': 0.5361361486230292, 'colsample_bytree': 0.9361840245553008, 'reg_alpha': 6.12741620085467, 'reg_lambda': 6.028536586742921}. Best is trial 15 with value: 0.2098793363499246.\n",
      "[I 2025-06-01 22:49:52,569] Trial 63 finished with value: 0.19597402597402597 and parameters: {'n_estimators': 488, 'learning_rate': 0.4318906281541194, 'max_depth': 10, 'min_child_weight': 3, 'gamma': 0.048862816267914916, 'subsample': 0.6013436733556106, 'colsample_bytree': 0.7692651831328071, 'reg_alpha': 3.8964103452034182, 'reg_lambda': 8.341687776925399}. Best is trial 15 with value: 0.2098793363499246.\n",
      "[I 2025-06-01 22:49:54,862] Trial 64 finished with value: 0.16615384615384615 and parameters: {'n_estimators': 490, 'learning_rate': 0.44073098043998016, 'max_depth': 10, 'min_child_weight': 3, 'gamma': 0.022292408032784906, 'subsample': 0.5831390229360177, 'colsample_bytree': 0.7763334631831174, 'reg_alpha': 5.445076136475118, 'reg_lambda': 8.326394237398352}. Best is trial 15 with value: 0.2098793363499246.\n",
      "[I 2025-06-01 22:49:57,391] Trial 65 finished with value: 0.2182051282051282 and parameters: {'n_estimators': 459, 'learning_rate': 0.4239438217223527, 'max_depth': 11, 'min_child_weight': 2, 'gamma': 0.00730293103826158, 'subsample': 0.5446407161818648, 'colsample_bytree': 0.703813124822621, 'reg_alpha': 3.6825974839122337, 'reg_lambda': 9.058967933704773}. Best is trial 65 with value: 0.2182051282051282.\n",
      "[I 2025-06-01 22:49:59,841] Trial 66 finished with value: 0.27954545454545454 and parameters: {'n_estimators': 459, 'learning_rate': 0.4637693592760678, 'max_depth': 11, 'min_child_weight': 1, 'gamma': 0.00806068327842311, 'subsample': 0.5892230378584592, 'colsample_bytree': 0.6978157202775881, 'reg_alpha': 3.758978782593914, 'reg_lambda': 8.91256344942213}. Best is trial 66 with value: 0.27954545454545454.\n",
      "[I 2025-06-01 22:50:02,242] Trial 67 finished with value: 0.13487179487179488 and parameters: {'n_estimators': 462, 'learning_rate': 0.48557124488983305, 'max_depth': 12, 'min_child_weight': 1, 'gamma': 0.009071285771174149, 'subsample': 0.5927869177846481, 'colsample_bytree': 0.662114564681376, 'reg_alpha': 3.797044737614258, 'reg_lambda': 9.05098070531009}. Best is trial 66 with value: 0.27954545454545454.\n",
      "[I 2025-06-01 22:50:04,833] Trial 68 finished with value: 0.15454545454545454 and parameters: {'n_estimators': 455, 'learning_rate': 0.4587321358754057, 'max_depth': 11, 'min_child_weight': 1, 'gamma': 0.0030887327753002236, 'subsample': 0.5530202379229368, 'colsample_bytree': 0.6433598666917889, 'reg_alpha': 2.829304832811851, 'reg_lambda': 7.818250221170774}. Best is trial 66 with value: 0.27954545454545454.\n",
      "[I 2025-06-01 22:50:07,227] Trial 69 finished with value: 0.1424242424242424 and parameters: {'n_estimators': 439, 'learning_rate': 0.417731359076105, 'max_depth': 11, 'min_child_weight': 2, 'gamma': 0.01142927118342797, 'subsample': 0.6268145154550918, 'colsample_bytree': 0.6897991555811354, 'reg_alpha': 3.458128809338021, 'reg_lambda': 8.777831473572427}. Best is trial 66 with value: 0.27954545454545454.\n",
      "[I 2025-06-01 22:50:09,437] Trial 70 finished with value: 0.22980463980463983 and parameters: {'n_estimators': 471, 'learning_rate': 0.4745185850290217, 'max_depth': 10, 'min_child_weight': 1, 'gamma': 0.019722730674783598, 'subsample': 0.5706701459073947, 'colsample_bytree': 0.9935208701399009, 'reg_alpha': 4.34951872042421, 'reg_lambda': 7.160609921615535}. Best is trial 66 with value: 0.27954545454545454.\n",
      "[I 2025-06-01 22:50:11,626] Trial 71 finished with value: 0.18828282828282827 and parameters: {'n_estimators': 474, 'learning_rate': 0.4798268385299926, 'max_depth': 10, 'min_child_weight': 1, 'gamma': 0.024605488503103762, 'subsample': 0.5739026647664301, 'colsample_bytree': 0.997749602940667, 'reg_alpha': 4.236151342215589, 'reg_lambda': 7.068475516777185}. Best is trial 66 with value: 0.27954545454545454.\n",
      "[I 2025-06-01 22:50:13,889] Trial 72 finished with value: 0.28357142857142853 and parameters: {'n_estimators': 467, 'learning_rate': 0.4763626558163035, 'max_depth': 11, 'min_child_weight': 1, 'gamma': 0.01814517497628288, 'subsample': 0.5744955051697921, 'colsample_bytree': 0.6965067833039388, 'reg_alpha': 4.198734464173267, 'reg_lambda': 7.048209305296713}. Best is trial 72 with value: 0.28357142857142853.\n",
      "[I 2025-06-01 22:50:16,194] Trial 73 finished with value: 0.16004273504273506 and parameters: {'n_estimators': 428, 'learning_rate': 0.44197820993405634, 'max_depth': 11, 'min_child_weight': 1, 'gamma': 0.007919292877564175, 'subsample': 0.6060909932753232, 'colsample_bytree': 0.7538829015565292, 'reg_alpha': 3.994287690399676, 'reg_lambda': 8.235292199194005}. Best is trial 72 with value: 0.28357142857142853.\n",
      "[I 2025-06-01 22:50:18,460] Trial 74 finished with value: 0.20293040293040293 and parameters: {'n_estimators': 462, 'learning_rate': 0.4687515498333228, 'max_depth': 12, 'min_child_weight': 1, 'gamma': 0.016735541150377977, 'subsample': 0.5273463289179978, 'colsample_bytree': 0.7007922805506213, 'reg_alpha': 4.971221326661877, 'reg_lambda': 6.756761101630966}. Best is trial 72 with value: 0.28357142857142853.\n"
     ]
    }
   ],
   "source": [
    "from xgboost import XGBClassifier\n",
    "from skopt.space import Real, Integer\n",
    "from skopt import BayesSearchCV\n",
    "import optuna\n",
    "from sklearn.model_selection import cross_val_score\n",
    "\n",
    "def objective(trial):\n",
    "\n",
    "    params = {\n",
    "        'n_estimators': trial.suggest_int('n_estimators', 200, 500),\n",
    "        'learning_rate': trial.suggest_float('learning_rate', 0.01, 0.5),\n",
    "        'max_depth': trial.suggest_int('max_depth', 3, 12),\n",
    "        'min_child_weight': trial.suggest_int('min_child_weight', 1, 7),\n",
    "        'gamma': trial.suggest_float('gamma', 0, 0.2),\n",
    "        'subsample': trial.suggest_float('subsample', 0.5, 1.0),\n",
    "        'colsample_bytree': trial.suggest_float('colsample_bytree', 0.5, 1.0),\n",
    "        'reg_alpha': trial.suggest_float('reg_alpha', 0, 10),\n",
    "        'reg_lambda': trial.suggest_float('reg_lambda', 0, 10),\n",
    "    }\n",
    "\n",
    "    base = XGBClassifier(**params, scale_pos_weight = 5149/61, enable_categorical = True, random_state = 40)\n",
    "\n",
    "\n",
    "    cv_scores = cross_val_score(base, X, y, cv = 5, scoring = 'precision')\n",
    "\n",
    "    return cv_scores.mean()\n",
    "\n",
    "study = optuna.create_study(direction='maximize')\n",
    "study.optimize(objective, n_trials = 75)"
   ]
  },
  {
   "cell_type": "code",
   "execution_count": null,
   "id": "37301467",
   "metadata": {},
   "outputs": [
    {
     "ename": "NameError",
     "evalue": "name 'test_X' is not defined",
     "output_type": "error",
     "traceback": [
      "\u001b[0;31m---------------------------------------------------------------------------\u001b[0m",
      "\u001b[0;31mNameError\u001b[0m                                 Traceback (most recent call last)",
      "Cell \u001b[0;32mIn[83], line 7\u001b[0m\n\u001b[1;32m      5\u001b[0m threshold \u001b[38;5;241m=\u001b[39m \u001b[38;5;241m0.48\u001b[39m\n\u001b[1;32m      6\u001b[0m train_prediction \u001b[38;5;241m=\u001b[39m model\u001b[38;5;241m.\u001b[39mpredict_proba(X)\n\u001b[0;32m----> 7\u001b[0m prediction \u001b[38;5;241m=\u001b[39m model\u001b[38;5;241m.\u001b[39mpredict_proba(\u001b[43mtest_X\u001b[49m)\n\u001b[1;32m     10\u001b[0m bi_prediction \u001b[38;5;241m=\u001b[39m (prediction \u001b[38;5;241m>\u001b[39m\u001b[38;5;241m=\u001b[39m threshold)\u001b[38;5;241m.\u001b[39mastype(\u001b[38;5;28mint\u001b[39m)[:,\u001b[38;5;241m1\u001b[39m]\n\u001b[1;32m     11\u001b[0m csv_pred \u001b[38;5;241m=\u001b[39m pd\u001b[38;5;241m.\u001b[39mDataFrame({\u001b[38;5;124m'\u001b[39m\u001b[38;5;124mON_TIME_AND_COMPLETE\u001b[39m\u001b[38;5;124m'\u001b[39m: bi_prediction}, index \u001b[38;5;241m=\u001b[39m raw_test[\u001b[38;5;124m'\u001b[39m\u001b[38;5;124mID\u001b[39m\u001b[38;5;124m'\u001b[39m])\n",
      "\u001b[0;31mNameError\u001b[0m: name 'test_X' is not defined"
     ]
    }
   ],
   "source": [
    "# Generate Prediction\n",
    "\n",
    "model = XGBClassifier(**study.best_params, scale_pos_weight = 5149/61, enable_categorical = True, random_state = 40).fit(X, y)\n",
    "\n",
    "threshold = 0.48\n",
    "train_prediction = model.predict_proba(X)\n",
    "prediction = model.predict_proba(test_X)\n",
    "\n",
    "\n",
    "bi_prediction = (prediction >= threshold).astype(int)[:,1]\n",
    "csv_pred = pd.DataFrame({'ON_TIME_AND_COMPLETE': bi_prediction}, index = raw_test['ID'])\n",
    "csv_pred.to_csv('grammy_pred.csv')\n",
    "\n",
    "# Metrics\n",
    "\n",
    "from sklearn.metrics import accuracy_score, confusion_matrix, recall_score, roc_auc_score, f1_score\n",
    "\n",
    "\n",
    "#print('alpha:', model.named_steps['regression'].C_)\n",
    "print('------------------')\n",
    "print(study.best_params)\n",
    "\n",
    "def metrics(prediction, actual, threshold):\n",
    "\n",
    "    bi_prediction = (prediction >= threshold).astype(int)[:,1]\n",
    "    print('Recall:', recall_score(actual, bi_prediction))\n",
    "    print('ROC/AUC:', roc_auc_score(actual, bi_prediction))\n",
    "    print('accuracy:', accuracy_score(actual, bi_prediction))\n",
    "    print('F1:', f1_score(actual, bi_prediction))\n",
    "\n",
    "    confusion_mat = confusion_matrix(actual, bi_prediction)\n",
    "    labels = ['Actual Negative', 'Actual Positive']\n",
    "    formatted_confusion_mat = pd.DataFrame(confusion_mat, index=labels, columns=[f'Predicted {label}' for label in labels])\n",
    "    print('----------------------')\n",
    "    print(\"Confusion Matrix:\")\n",
    "    display(formatted_confusion_mat)\n",
    "\n",
    "metrics(train_prediction, y, threshold)"
   ]
  },
  {
   "cell_type": "code",
   "execution_count": null,
   "id": "82dd72bb",
   "metadata": {},
   "outputs": [],
   "source": []
  }
 ],
 "metadata": {
  "kernelspec": {
   "display_name": ".venv",
   "language": "python",
   "name": "python3"
  },
  "language_info": {
   "codemirror_mode": {
    "name": "ipython",
    "version": 3
   },
   "file_extension": ".py",
   "mimetype": "text/x-python",
   "name": "python",
   "nbconvert_exporter": "python",
   "pygments_lexer": "ipython3",
   "version": "3.9.6"
  }
 },
 "nbformat": 4,
 "nbformat_minor": 5
}
